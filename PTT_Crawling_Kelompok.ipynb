{
  "nbformat": 4,
  "nbformat_minor": 0,
  "metadata": {
    "colab": {
      "provenance": [],
      "authorship_tag": "ABX9TyNprYiKmtogbPyibhMreIAN",
      "include_colab_link": true
    },
    "kernelspec": {
      "name": "python3",
      "display_name": "Python 3"
    },
    "language_info": {
      "name": "python"
    }
  },
  "cells": [
    {
      "cell_type": "markdown",
      "metadata": {
        "id": "view-in-github",
        "colab_type": "text"
      },
      "source": [
        "<a href=\"https://colab.research.google.com/github/Timothy88996/Tugas_Kelompok_Crawling_dan_Text_Preprocessing/blob/main/PTT_Crawling_Kelompok.ipynb\" target=\"_parent\"><img src=\"https://colab.research.google.com/assets/colab-badge.svg\" alt=\"Open In Colab\"/></a>"
      ]
    },
    {
      "cell_type": "markdown",
      "source": [
        "# **Preparasi**"
      ],
      "metadata": {
        "id": "qcC5BxsIp0zZ"
      }
    },
    {
      "cell_type": "code",
      "execution_count": 35,
      "metadata": {
        "id": "N_u71TafRnt7"
      },
      "outputs": [],
      "source": [
        "auth_token = 'd74835e89af567ef9b71a681eda80686ad3d84ab'"
      ]
    },
    {
      "cell_type": "code",
      "source": [
        "# Sambung ke drive\n",
        "from google.colab import drive\n",
        "drive.mount('/content/drive')"
      ],
      "metadata": {
        "colab": {
          "base_uri": "https://localhost:8080/"
        },
        "id": "M-VeKGHaszms",
        "outputId": "9871e0ee-ee7c-44d4-c2f3-f5ad1ea6e525"
      },
      "execution_count": 36,
      "outputs": [
        {
          "output_type": "stream",
          "name": "stdout",
          "text": [
            "Drive already mounted at /content/drive; to attempt to forcibly remount, call drive.mount(\"/content/drive\", force_remount=True).\n"
          ]
        }
      ]
    },
    {
      "cell_type": "code",
      "source": [
        "# Crawling Library (Menggunakan Node.js)\n",
        "!sudo apt-get update\n",
        "!sudo apt-get install -y ca-certificates curl gnupg\n",
        "!sudo mkdir -p /etc/apt/keyrings\n",
        "!curl -fsSL https://deb.nodesource.com/gpgkey/nodesource-repo.gpg.key | sudo gpg --dearmor -o /etc/apt/keyrings/nodesource.gpg\n",
        "!NODE_MAJOR=20 && echo \"deb [signed-by=/etc/apt/keyrings/nodesource.gpg] https://deb.nodesource.com/node_$NODE_MAJOR.x nodistro main\" | sudo tee /etc/apt/sources.list.d/nodesource.list\n",
        "!sudo apt-get update\n",
        "!sudo apt-get install nodejs -y\n",
        "!node -v\n",
        "\n",
        "# Text Preprocessing Library\n",
        "!pip install pandas\n",
        "!pip install Sastrawi\n",
        "!pip install nltk\n",
        "\n",
        "# Import Librar=y\n",
        "import os # Untuk penggabungan path ketika penyimpanan file ke g drive\n",
        "import re # Filtering (angka, simbol, hastag, dan mention)\n",
        "import nltk # Untuk preprocessing filtering (stopword removal) dan tokenizing\n",
        "import pandas as pd\n",
        "from nltk.corpus import stopwords\n",
        "from nltk.tokenize import word_tokenize\n",
        "from Sastrawi.Stemmer.StemmerFactory import StemmerFactory # Stemming\n",
        "\n",
        "# Menginstall fitur nltk yang akan digunakan\n",
        "nltk.download('stopwords')\n",
        "nltk.download('punkt') # Tokenizing\n",
        "nltk.download('punkt_tab')\n",
        "\n",
        "# Inisialisasi untuk Preprocessing\n",
        "stop_words = set(stopwords.words('indonesian')) # Mengatur bahasa target stopwords(kata umum)\n",
        "factory = StemmerFactory() # Mengambil objek fungsi stemming\n",
        "stemmer = factory.create_stemmer() # Membangun fungsi stemming"
      ],
      "metadata": {
        "colab": {
          "base_uri": "https://localhost:8080/"
        },
        "id": "ft4UFjfcoS4J",
        "outputId": "9768240d-f548-4e61-c628-2eb39a141036"
      },
      "execution_count": 37,
      "outputs": [
        {
          "output_type": "stream",
          "name": "stdout",
          "text": [
            "\r0% [Working]\r            \rHit:1 https://cli.github.com/packages stable InRelease\n",
            "\r0% [Connecting to archive.ubuntu.com (185.125.190.36)] [Connecting to security.\r                                                                               \rHit:2 https://developer.download.nvidia.com/compute/cuda/repos/ubuntu2204/x86_64  InRelease\n",
            "\r0% [Connecting to archive.ubuntu.com (185.125.190.36)] [Connecting to security.\r                                                                               \rHit:3 https://cloud.r-project.org/bin/linux/ubuntu jammy-cran40/ InRelease\n",
            "Hit:4 https://deb.nodesource.com/node_20.x nodistro InRelease\n",
            "Hit:5 https://r2u.stat.illinois.edu/ubuntu jammy InRelease\n",
            "Hit:6 http://security.ubuntu.com/ubuntu jammy-security InRelease\n",
            "Hit:7 http://archive.ubuntu.com/ubuntu jammy InRelease\n",
            "Hit:8 http://archive.ubuntu.com/ubuntu jammy-updates InRelease\n",
            "Hit:9 http://archive.ubuntu.com/ubuntu jammy-backports InRelease\n",
            "Hit:10 https://ppa.launchpadcontent.net/deadsnakes/ppa/ubuntu jammy InRelease\n",
            "Hit:11 https://ppa.launchpadcontent.net/graphics-drivers/ppa/ubuntu jammy InRelease\n",
            "Hit:12 https://ppa.launchpadcontent.net/ubuntugis/ppa/ubuntu jammy InRelease\n",
            "Reading package lists... Done\n",
            "W: Skipping acquire of configured file 'main/source/Sources' as repository 'https://r2u.stat.illinois.edu/ubuntu jammy InRelease' does not seem to provide it (sources.list entry misspelt?)\n",
            "Reading package lists... Done\n",
            "Building dependency tree... Done\n",
            "Reading state information... Done\n",
            "ca-certificates is already the newest version (20240203~22.04.1).\n",
            "curl is already the newest version (7.81.0-1ubuntu1.21).\n",
            "gnupg is already the newest version (2.2.27-3ubuntu2.4).\n",
            "0 upgraded, 0 newly installed, 0 to remove and 42 not upgraded.\n",
            "gpg: cannot open '/dev/tty': No such device or address\n",
            "curl: (23) Failed writing body\n",
            "deb [signed-by=/etc/apt/keyrings/nodesource.gpg] https://deb.nodesource.com/node_20.x nodistro main\n",
            "Hit:1 https://cloud.r-project.org/bin/linux/ubuntu jammy-cran40/ InRelease\n",
            "Hit:2 https://cli.github.com/packages stable InRelease\n",
            "Hit:3 https://deb.nodesource.com/node_20.x nodistro InRelease\n",
            "Hit:4 https://developer.download.nvidia.com/compute/cuda/repos/ubuntu2204/x86_64  InRelease\n",
            "Hit:5 https://r2u.stat.illinois.edu/ubuntu jammy InRelease\n",
            "Hit:6 http://security.ubuntu.com/ubuntu jammy-security InRelease\n",
            "Hit:7 http://archive.ubuntu.com/ubuntu jammy InRelease\n",
            "Hit:8 http://archive.ubuntu.com/ubuntu jammy-updates InRelease\n",
            "Hit:9 http://archive.ubuntu.com/ubuntu jammy-backports InRelease\n",
            "Hit:10 https://ppa.launchpadcontent.net/deadsnakes/ppa/ubuntu jammy InRelease\n",
            "Hit:11 https://ppa.launchpadcontent.net/graphics-drivers/ppa/ubuntu jammy InRelease\n",
            "Hit:12 https://ppa.launchpadcontent.net/ubuntugis/ppa/ubuntu jammy InRelease\n",
            "Reading package lists... Done\n",
            "W: Skipping acquire of configured file 'main/source/Sources' as repository 'https://r2u.stat.illinois.edu/ubuntu jammy InRelease' does not seem to provide it (sources.list entry misspelt?)\n",
            "Reading package lists... Done\n",
            "Building dependency tree... Done\n",
            "Reading state information... Done\n",
            "nodejs is already the newest version (20.19.5-1nodesource1).\n",
            "0 upgraded, 0 newly installed, 0 to remove and 42 not upgraded.\n",
            "v20.19.5\n",
            "Requirement already satisfied: pandas in /usr/local/lib/python3.12/dist-packages (2.2.2)\n",
            "Requirement already satisfied: numpy>=1.26.0 in /usr/local/lib/python3.12/dist-packages (from pandas) (2.0.2)\n",
            "Requirement already satisfied: python-dateutil>=2.8.2 in /usr/local/lib/python3.12/dist-packages (from pandas) (2.9.0.post0)\n",
            "Requirement already satisfied: pytz>=2020.1 in /usr/local/lib/python3.12/dist-packages (from pandas) (2025.2)\n",
            "Requirement already satisfied: tzdata>=2022.7 in /usr/local/lib/python3.12/dist-packages (from pandas) (2025.2)\n",
            "Requirement already satisfied: six>=1.5 in /usr/local/lib/python3.12/dist-packages (from python-dateutil>=2.8.2->pandas) (1.17.0)\n",
            "Requirement already satisfied: Sastrawi in /usr/local/lib/python3.12/dist-packages (1.0.1)\n",
            "Requirement already satisfied: nltk in /usr/local/lib/python3.12/dist-packages (3.9.1)\n",
            "Requirement already satisfied: click in /usr/local/lib/python3.12/dist-packages (from nltk) (8.3.0)\n",
            "Requirement already satisfied: joblib in /usr/local/lib/python3.12/dist-packages (from nltk) (1.5.2)\n",
            "Requirement already satisfied: regex>=2021.8.3 in /usr/local/lib/python3.12/dist-packages (from nltk) (2024.11.6)\n",
            "Requirement already satisfied: tqdm in /usr/local/lib/python3.12/dist-packages (from nltk) (4.67.1)\n"
          ]
        },
        {
          "output_type": "stream",
          "name": "stderr",
          "text": [
            "[nltk_data] Downloading package stopwords to /root/nltk_data...\n",
            "[nltk_data]   Package stopwords is already up-to-date!\n",
            "[nltk_data] Downloading package punkt to /root/nltk_data...\n",
            "[nltk_data]   Package punkt is already up-to-date!\n",
            "[nltk_data] Downloading package punkt_tab to /root/nltk_data...\n",
            "[nltk_data]   Package punkt_tab is already up-to-date!\n"
          ]
        }
      ]
    },
    {
      "cell_type": "markdown",
      "source": [
        "# **Crawling**"
      ],
      "metadata": {
        "id": "qEpRzkBdrvR-"
      }
    },
    {
      "cell_type": "code",
      "source": [
        "search_keyword = 'insomnia since:2025-01-01 until:2025-10-1 lang:id'\n",
        "ygdicari = search_keyword.split()[0] # Agar nama file tidak perlu ditulis kembali di kemudian hari\n",
        "filename = f'{ygdicari}.csv'\n",
        "limit = 250 # Batas jumlah data\n",
        "\n",
        "!npx -y tweet-harvest@latest -o \"{filename}\" -s \"{search_keyword}\" --tab \"LATEST\" -l {limit} --token {auth_token}"
      ],
      "metadata": {
        "colab": {
          "base_uri": "https://localhost:8080/"
        },
        "id": "jvuXQ2rHrvFx",
        "outputId": "331a0209-d9a3-43c6-f775-70c8c5944dff"
      },
      "execution_count": 38,
      "outputs": [
        {
          "output_type": "stream",
          "name": "stdout",
          "text": [
            "\u001b[1G\u001b[0K⠙\u001b[1G\u001b[0K⠹\u001b[1G\u001b[0K⠸\u001b[1G\u001b[0K⠼\u001b[1G\u001b[0K⠴\u001b[1G\u001b[0K⠦\u001b[1G\u001b[0K\u001b[1m\u001b[32mTweet Harvest [v2.6.1]\u001b[39m\u001b[22m\n",
            "\u001b[1m\u001b[32m\u001b[39m\u001b[22m\n",
            "\u001b[34mResearch by \u001b[39m\u001b[1m\u001b[34mHelmi Satria\u001b[39m\u001b[22m\u001b[34m\u001b[39m\n",
            "\u001b[34mUse it for Educational Purposes only!\u001b[39m\n",
            "\u001b[34m\u001b[39m\n",
            "\u001b[33mThis script uses Chromium Browser to crawl data from Twitter with \u001b[1myour Twitter auth token\u001b[22m.\u001b[39m\n",
            "\u001b[33mPlease enter your Twitter auth token when prompted.\u001b[39m\n",
            "\u001b[33m\u001b[39m\n",
            "\u001b[31m\u001b[1mNote:\u001b[22m\u001b[39m Keep your access token secret! Don't share it with anyone else.\n",
            "\u001b[31m\u001b[1mNote:\u001b[22m\u001b[39m This script only runs on your local device.\n",
            "\n",
            "\u001b[34m\u001b[39m\n",
            "\u001b[34mOpening twitter search page...\u001b[39m\n",
            "\u001b[34m\u001b[39m\n",
            "\u001b[34m\u001b[39m\n",
            "\u001b[34mFound existing file ./tweets-data/insomnia.csv, renaming to ./tweets-data/insomnia.old.csv\u001b[39m\n",
            "\u001b[90m\u001b[39m\n",
            "\u001b[90m-- Scrolling... (1)\u001b[39m\u001b[90m (2)\u001b[39m\u001b[33m\u001b[39m\n",
            "\u001b[33mFilling in keywords: insomnia since:2025-01-01 until:2025-10-1 lang:id\u001b[39m\n",
            "\u001b[33m\u001b[39m\n",
            "\u001b[90m (3)\u001b[39m\u001b[90m (4)\u001b[39m\u001b[90m (5)\u001b[39m\u001b[90m (6)\u001b[39m\u001b[90m (7)\u001b[39m\u001b[34m\u001b[39m\n",
            "\u001b[34m\u001b[39m\n",
            "\u001b[34mYour tweets saved to: /content/tweets-data/insomnia.csv\u001b[39m\n",
            "\u001b[33mTotal tweets saved: 20\u001b[39m\n",
            "\u001b[90m\u001b[39m\n",
            "\u001b[90m-- Scrolling... (1)\u001b[39m\u001b[90m (2)\u001b[39m\u001b[34m\u001b[39m\n",
            "\u001b[34m\u001b[39m\n",
            "\u001b[34mYour tweets saved to: /content/tweets-data/insomnia.csv\u001b[39m\n",
            "\u001b[33mTotal tweets saved: 40\u001b[39m\n",
            "\u001b[90m\u001b[39m\n",
            "\u001b[90m-- Scrolling... (1)\u001b[39m\u001b[34m\u001b[39m\n",
            "\u001b[34m\u001b[39m\n",
            "\u001b[34mYour tweets saved to: /content/tweets-data/insomnia.csv\u001b[39m\n",
            "\u001b[33mTotal tweets saved: 60\u001b[39m\n",
            "\u001b[90m\u001b[39m\n",
            "\u001b[90m-- Scrolling... (1)\u001b[39m\u001b[34m\u001b[39m\n",
            "\u001b[34m\u001b[39m\n",
            "\u001b[34mYour tweets saved to: /content/tweets-data/insomnia.csv\u001b[39m\n",
            "\u001b[33mTotal tweets saved: 80\u001b[39m\n",
            "\u001b[90m\u001b[39m\n",
            "\u001b[90m-- Scrolling... (1)\u001b[39m\u001b[34m\u001b[39m\n",
            "\u001b[34m\u001b[39m\n",
            "\u001b[34mYour tweets saved to: /content/tweets-data/insomnia.csv\u001b[39m\n",
            "\u001b[33mTotal tweets saved: 100\u001b[39m\n",
            "\u001b[90m\u001b[39m\n",
            "\u001b[90m-- Scrolling... (1)\u001b[39m\u001b[90m (2)\u001b[39m\u001b[90m (3)\u001b[39m\u001b[34m\u001b[39m\n",
            "\u001b[34m\u001b[39m\n",
            "\u001b[34mYour tweets saved to: /content/tweets-data/insomnia.csv\u001b[39m\n",
            "\u001b[33mTotal tweets saved: 120\u001b[39m\n",
            "\u001b[90m\u001b[39m\n",
            "\u001b[90m--Taking a break, waiting for 10 seconds...\u001b[39m\n",
            "\u001b[90m\u001b[39m\n",
            "\u001b[90m-- Scrolling... (1)\u001b[39m\u001b[34m\u001b[39m\n",
            "\u001b[34m\u001b[39m\n",
            "\u001b[34mYour tweets saved to: /content/tweets-data/insomnia.csv\u001b[39m\n",
            "\u001b[33mTotal tweets saved: 140\u001b[39m\n",
            "\u001b[90m\u001b[39m\n",
            "\u001b[90m-- Scrolling... (1)\u001b[39m\u001b[34m\u001b[39m\n",
            "\u001b[34m\u001b[39m\n",
            "\u001b[34mYour tweets saved to: /content/tweets-data/insomnia.csv\u001b[39m\n",
            "\u001b[33mTotal tweets saved: 160\u001b[39m\n",
            "\u001b[90m\u001b[39m\n",
            "\u001b[90m-- Scrolling... (1)\u001b[39m\u001b[34m\u001b[39m\n",
            "\u001b[34m\u001b[39m\n",
            "\u001b[34mYour tweets saved to: /content/tweets-data/insomnia.csv\u001b[39m\n",
            "\u001b[33mTotal tweets saved: 180\u001b[39m\n",
            "\u001b[90m\u001b[39m\n",
            "\u001b[90m-- Scrolling... (1)\u001b[39m\u001b[34m\u001b[39m\n",
            "\u001b[34m\u001b[39m\n",
            "\u001b[34mYour tweets saved to: /content/tweets-data/insomnia.csv\u001b[39m\n",
            "\u001b[33mTotal tweets saved: 200\u001b[39m\n",
            "\u001b[90m\u001b[39m\n",
            "\u001b[90m-- Scrolling... (1)\u001b[39m\u001b[34m\u001b[39m\n",
            "\u001b[34m\u001b[39m\n",
            "\u001b[34mYour tweets saved to: /content/tweets-data/insomnia.csv\u001b[39m\n",
            "\u001b[33mTotal tweets saved: 219\u001b[39m\n",
            "\u001b[90m\u001b[39m\n",
            "\u001b[90m-- Scrolling... (1)\u001b[39m\u001b[90m (2)\u001b[39m\u001b[34m\u001b[39m\n",
            "\u001b[34m\u001b[39m\n",
            "\u001b[34mYour tweets saved to: /content/tweets-data/insomnia.csv\u001b[39m\n",
            "\u001b[33mTotal tweets saved: 239\u001b[39m\n",
            "\u001b[90m\u001b[39m\n",
            "\u001b[90m--Taking a break, waiting for 10 seconds...\u001b[39m\n",
            "\u001b[90m\u001b[39m\n",
            "\u001b[90m-- Scrolling... (1)\u001b[39m\u001b[90m (2)\u001b[39m\u001b[90m (3)\u001b[39m\u001b[90m (4)\u001b[39m\u001b[34m\u001b[39m\n",
            "\u001b[34m\u001b[39m\n",
            "\u001b[34mYour tweets saved to: /content/tweets-data/insomnia.csv\u001b[39m\n",
            "\u001b[33mTotal tweets saved: 259\u001b[39m\n",
            "Got 259 tweets, done scrolling...\n",
            "\u001b[1G\u001b[0K⠙\u001b[1G\u001b[0K"
          ]
        }
      ]
    },
    {
      "cell_type": "code",
      "source": [
        "df = pd.read_csv(f'/content/tweets-data/{ygdicari}.csv')\n",
        "data_amt = len(df)\n",
        "print(f\"jumlah data yang ditemukan: {data_amt}\")"
      ],
      "metadata": {
        "colab": {
          "base_uri": "https://localhost:8080/"
        },
        "id": "oN2VwJRdsrGr",
        "outputId": "952d7256-8a04-4ecf-e762-93801ccdb936"
      },
      "execution_count": 39,
      "outputs": [
        {
          "output_type": "stream",
          "name": "stdout",
          "text": [
            "jumlah data yang ditemukan: 259\n"
          ]
        }
      ]
    },
    {
      "cell_type": "markdown",
      "source": [
        "# **Preprocessing**"
      ],
      "metadata": {
        "id": "Pvb3Q2RsRa7p"
      }
    },
    {
      "cell_type": "markdown",
      "source": [
        "**Menyimpan hasil mentah**"
      ],
      "metadata": {
        "id": "B-xYJ4_WSGyU"
      }
    },
    {
      "cell_type": "code",
      "source": [
        "dir_path = '/content/drive/MyDrive/Pemrosesan Teks Teori/twitter_crawling_files' # Sesuaikan dengan path masing - masing\n",
        "raw_file_name = f'{ygdicari}_raw_{data_amt}_data.csv'\n",
        "\n",
        "saving_path = os.path.join(dir_path, raw_file_name)\n",
        "\n",
        "df.to_csv(saving_path, index=False)\n",
        "print(f\"Berhasil menyimpan file: {raw_file_name}\")\n",
        "print(f\"\\nPada path: \\n{saving_path}\")"
      ],
      "metadata": {
        "colab": {
          "base_uri": "https://localhost:8080/"
        },
        "id": "pVxZfu3_x_n2",
        "outputId": "e2c5aed7-67fd-4392-f6ec-ec93e3c20893"
      },
      "execution_count": 40,
      "outputs": [
        {
          "output_type": "stream",
          "name": "stdout",
          "text": [
            "Berhasil menyimpan file: insomnia_raw_259_data.csv\n",
            "\n",
            "Pada path: \n",
            "/content/drive/MyDrive/Pemrosesan Teks Teori/twitter_crawling_files/insomnia_raw_259_data.csv\n"
          ]
        }
      ]
    },
    {
      "cell_type": "code",
      "source": [
        "# Target yang akan di-proses\n",
        "df['full_text'].head()"
      ],
      "metadata": {
        "colab": {
          "base_uri": "https://localhost:8080/",
          "height": 241
        },
        "id": "95x2saCU6H1C",
        "outputId": "838d7d2d-0a0f-4c1c-c274-8ad177b212e3"
      },
      "execution_count": 41,
      "outputs": [
        {
          "output_type": "execute_result",
          "data": {
            "text/plain": [
              "0    ᅠ ᅠ ᅠ Insomnia finally took a toll on me. Kepa...\n",
              "1                   @Ex_insomnia kesayangan ponakan ia\n",
              "2                         @Ex_insomnia wkwkwk kepleset\n",
              "3    @suksaetbyeoli7 HAHAHAHAHAHA katanya insomnia ...\n",
              "4    @xendless_s @carlaaura ya soalnya pasien insom...\n",
              "Name: full_text, dtype: object"
            ],
            "text/html": [
              "<div>\n",
              "<style scoped>\n",
              "    .dataframe tbody tr th:only-of-type {\n",
              "        vertical-align: middle;\n",
              "    }\n",
              "\n",
              "    .dataframe tbody tr th {\n",
              "        vertical-align: top;\n",
              "    }\n",
              "\n",
              "    .dataframe thead th {\n",
              "        text-align: right;\n",
              "    }\n",
              "</style>\n",
              "<table border=\"1\" class=\"dataframe\">\n",
              "  <thead>\n",
              "    <tr style=\"text-align: right;\">\n",
              "      <th></th>\n",
              "      <th>full_text</th>\n",
              "    </tr>\n",
              "  </thead>\n",
              "  <tbody>\n",
              "    <tr>\n",
              "      <th>0</th>\n",
              "      <td>ᅠ ᅠ ᅠ Insomnia finally took a toll on me. Kepa...</td>\n",
              "    </tr>\n",
              "    <tr>\n",
              "      <th>1</th>\n",
              "      <td>@Ex_insomnia kesayangan ponakan ia</td>\n",
              "    </tr>\n",
              "    <tr>\n",
              "      <th>2</th>\n",
              "      <td>@Ex_insomnia wkwkwk kepleset</td>\n",
              "    </tr>\n",
              "    <tr>\n",
              "      <th>3</th>\n",
              "      <td>@suksaetbyeoli7 HAHAHAHAHAHA katanya insomnia ...</td>\n",
              "    </tr>\n",
              "    <tr>\n",
              "      <th>4</th>\n",
              "      <td>@xendless_s @carlaaura ya soalnya pasien insom...</td>\n",
              "    </tr>\n",
              "  </tbody>\n",
              "</table>\n",
              "</div><br><label><b>dtype:</b> object</label>"
            ]
          },
          "metadata": {},
          "execution_count": 41
        }
      ]
    },
    {
      "cell_type": "markdown",
      "source": [
        "**Menyiapkan fungsi preprocessing**"
      ],
      "metadata": {
        "id": "S-TkqgRmSRFc"
      }
    },
    {
      "cell_type": "code",
      "source": [
        "# Filtering\n",
        "def filtering(text): # Ada (text) karena masih dalam bentuk kalimat. contoh: \"saya suka kacang\"\n",
        "    text = re.sub(r'http\\S+', '', text)     # hapus URL\n",
        "    text = re.sub(r'#\\w+', '', text)        # hapus hashtag\n",
        "    text = re.sub(r'@\\w+', '', text)        # hapus mention\n",
        "    text = re.sub(r'\\d+', '', text)         # hapus angka\n",
        "    text = re.sub(r'[^\\w\\s]', '', text)     # hapus simbol/punctuation\n",
        "    return text\n",
        "\n",
        "# Case Folding\n",
        "def case_fold(text): # Ada (text) karena masih dalam bentuk kalimat. contoh: \"saya suka kacang\"\n",
        "    return text.lower()\n",
        "\n",
        "# Tokenizing\n",
        "def token(text): # Ada (text) karena masih dalam bentuk kalimat. contoh: \"saya suka kacang\"\n",
        "    return word_tokenize(text)\n",
        "\n",
        "# Stemming\n",
        "def stemming(tokens): # Ada (token) karena masih dalam bentuk list. contoh: ['saya', 'suka', 'kacang']\n",
        "    return [stemmer.stem(token) for token in tokens]\n",
        "\n",
        "# Filtering (stopword removal)\n",
        "def remove_stopwords(tokens): # Ada (token) karena masih dalam bentuk list. contoh: ['saya', 'suka', 'kacang']\n",
        "    return [token for token in tokens if token not in stop_words]\n",
        "\n",
        "# Menggabungkan semua fungsi preprocessing ke satu fungsi\n",
        "def process_it(text):\n",
        "    filtered = filtering(text)\n",
        "    lowered = case_fold(filtered)\n",
        "    tokens = token(lowered)\n",
        "    stemmed = stemming(tokens)\n",
        "    processed = remove_stopwords(stemmed)\n",
        "    return {\n",
        "        'Filtering': filtered,\n",
        "        'Case_Folding': lowered,\n",
        "        'Tokenizing': tokens,\n",
        "        'Stemming': stemmed,\n",
        "        'Stopwords_Removal': processed\n",
        "    }"
      ],
      "metadata": {
        "id": "-beBGWDW5gXR"
      },
      "execution_count": 42,
      "outputs": []
    },
    {
      "cell_type": "markdown",
      "source": [
        "**Apply fungsi preprocessing & ditambahkan pada kolom baru**"
      ],
      "metadata": {
        "id": "tLUZVsptTIo5"
      }
    },
    {
      "cell_type": "code",
      "source": [
        "results = df['full_text'].apply(process_it) # Mengaplikasikan fungsi preprocessing pada kolom 'full_text'\n",
        "\n",
        "# Membangun kolom baru dan mengisinya dengan hasil preprocessing, yang berasal dari dictionary 'results'\n",
        "df['Filtering'] = results.apply(lambda x: x['Filtering'])\n",
        "df['Case_Folding'] = results.apply(lambda x: x['Case_Folding'])\n",
        "df['Tokenizing'] = results.apply(lambda x: x['Tokenizing'])\n",
        "df['Stemming'] = results.apply(lambda x: x['Stemming'])\n",
        "df['Stopwords_Removal'] = results.apply(lambda x: x['Stopwords_Removal'])\n",
        "\n",
        "# Membangun DataFrame yang hanya berisi tahapan preprocessing\n",
        "processed_df = df[['full_text', 'Filtering', 'Case_Folding', 'Tokenizing', 'Stemming', 'Stopwords_Removal']]\n",
        "\n",
        "# Menampilkan DataFrame tersebut\n",
        "print(\"Hasil Preprocessing:\\n\")\n",
        "display(processed_df.head())"
      ],
      "metadata": {
        "colab": {
          "base_uri": "https://localhost:8080/",
          "height": 379
        },
        "id": "ZVHqx48h5oqv",
        "outputId": "ca06cb3e-2e50-4618-b6b5-976149a9a146"
      },
      "execution_count": 43,
      "outputs": [
        {
          "output_type": "stream",
          "name": "stdout",
          "text": [
            "Hasil Preprocessing:\n",
            "\n"
          ]
        },
        {
          "output_type": "display_data",
          "data": {
            "text/plain": [
              "                                           full_text  \\\n",
              "0  ᅠ ᅠ ᅠ Insomnia finally took a toll on me. Kepa...   \n",
              "1                 @Ex_insomnia kesayangan ponakan ia   \n",
              "2                       @Ex_insomnia wkwkwk kepleset   \n",
              "3  @suksaetbyeoli7 HAHAHAHAHAHA katanya insomnia ...   \n",
              "4  @xendless_s @carlaaura ya soalnya pasien insom...   \n",
              "\n",
              "                                           Filtering  \\\n",
              "0  ᅠ ᅠ ᅠ Insomnia finally took a toll on me Kepal...   \n",
              "1                              kesayangan ponakan ia   \n",
              "2                                    wkwkwk kepleset   \n",
              "3   HAHAHAHAHAHA katanya insomnia by tau buka buk...   \n",
              "4      ya soalnya pasien insomnia pengguna lorazepam   \n",
              "\n",
              "                                        Case_Folding  \\\n",
              "0  ᅠ ᅠ ᅠ insomnia finally took a toll on me kepal...   \n",
              "1                              kesayangan ponakan ia   \n",
              "2                                    wkwkwk kepleset   \n",
              "3   hahahahahaha katanya insomnia by tau buka buk...   \n",
              "4      ya soalnya pasien insomnia pengguna lorazepam   \n",
              "\n",
              "                                          Tokenizing  \\\n",
              "0  [ᅠ, ᅠ, ᅠ, insomnia, finally, took, a, toll, on...   \n",
              "1                          [kesayangan, ponakan, ia]   \n",
              "2                                 [wkwkwk, kepleset]   \n",
              "3  [hahahahahaha, katanya, insomnia, by, tau, buk...   \n",
              "4  [ya, soalnya, pasien, insomnia, pengguna, lora...   \n",
              "\n",
              "                                            Stemming  \\\n",
              "0  [, , , insomnia, finally, took, a, toll, on, m...   \n",
              "1                              [sayang, ponakan, ia]   \n",
              "2                                 [wkwkwk, kepleset]   \n",
              "3  [hahahahahaha, kata, insomnia, by, tau, buka, ...   \n",
              "4      [ya, soal, pasien, insomnia, guna, lorazepam]   \n",
              "\n",
              "                                   Stopwords_Removal  \n",
              "0  [, , , insomnia, finally, took, a, toll, on, m...  \n",
              "1                                  [sayang, ponakan]  \n",
              "2                                 [wkwkwk, kepleset]  \n",
              "3  [hahahahahaha, insomnia, by, tau, buka, buku, ...  \n",
              "4                  [ya, pasien, insomnia, lorazepam]  "
            ],
            "text/html": [
              "\n",
              "  <div id=\"df-9049f6f1-afe8-4595-9bf3-21b78ccd91d5\" class=\"colab-df-container\">\n",
              "    <div>\n",
              "<style scoped>\n",
              "    .dataframe tbody tr th:only-of-type {\n",
              "        vertical-align: middle;\n",
              "    }\n",
              "\n",
              "    .dataframe tbody tr th {\n",
              "        vertical-align: top;\n",
              "    }\n",
              "\n",
              "    .dataframe thead th {\n",
              "        text-align: right;\n",
              "    }\n",
              "</style>\n",
              "<table border=\"1\" class=\"dataframe\">\n",
              "  <thead>\n",
              "    <tr style=\"text-align: right;\">\n",
              "      <th></th>\n",
              "      <th>full_text</th>\n",
              "      <th>Filtering</th>\n",
              "      <th>Case_Folding</th>\n",
              "      <th>Tokenizing</th>\n",
              "      <th>Stemming</th>\n",
              "      <th>Stopwords_Removal</th>\n",
              "    </tr>\n",
              "  </thead>\n",
              "  <tbody>\n",
              "    <tr>\n",
              "      <th>0</th>\n",
              "      <td>ᅠ ᅠ ᅠ Insomnia finally took a toll on me. Kepa...</td>\n",
              "      <td>ᅠ ᅠ ᅠ Insomnia finally took a toll on me Kepal...</td>\n",
              "      <td>ᅠ ᅠ ᅠ insomnia finally took a toll on me kepal...</td>\n",
              "      <td>[ᅠ, ᅠ, ᅠ, insomnia, finally, took, a, toll, on...</td>\n",
              "      <td>[, , , insomnia, finally, took, a, toll, on, m...</td>\n",
              "      <td>[, , , insomnia, finally, took, a, toll, on, m...</td>\n",
              "    </tr>\n",
              "    <tr>\n",
              "      <th>1</th>\n",
              "      <td>@Ex_insomnia kesayangan ponakan ia</td>\n",
              "      <td>kesayangan ponakan ia</td>\n",
              "      <td>kesayangan ponakan ia</td>\n",
              "      <td>[kesayangan, ponakan, ia]</td>\n",
              "      <td>[sayang, ponakan, ia]</td>\n",
              "      <td>[sayang, ponakan]</td>\n",
              "    </tr>\n",
              "    <tr>\n",
              "      <th>2</th>\n",
              "      <td>@Ex_insomnia wkwkwk kepleset</td>\n",
              "      <td>wkwkwk kepleset</td>\n",
              "      <td>wkwkwk kepleset</td>\n",
              "      <td>[wkwkwk, kepleset]</td>\n",
              "      <td>[wkwkwk, kepleset]</td>\n",
              "      <td>[wkwkwk, kepleset]</td>\n",
              "    </tr>\n",
              "    <tr>\n",
              "      <th>3</th>\n",
              "      <td>@suksaetbyeoli7 HAHAHAHAHAHA katanya insomnia ...</td>\n",
              "      <td>HAHAHAHAHAHA katanya insomnia by tau buka buk...</td>\n",
              "      <td>hahahahahaha katanya insomnia by tau buka buk...</td>\n",
              "      <td>[hahahahahaha, katanya, insomnia, by, tau, buk...</td>\n",
              "      <td>[hahahahahaha, kata, insomnia, by, tau, buka, ...</td>\n",
              "      <td>[hahahahahaha, insomnia, by, tau, buka, buku, ...</td>\n",
              "    </tr>\n",
              "    <tr>\n",
              "      <th>4</th>\n",
              "      <td>@xendless_s @carlaaura ya soalnya pasien insom...</td>\n",
              "      <td>ya soalnya pasien insomnia pengguna lorazepam</td>\n",
              "      <td>ya soalnya pasien insomnia pengguna lorazepam</td>\n",
              "      <td>[ya, soalnya, pasien, insomnia, pengguna, lora...</td>\n",
              "      <td>[ya, soal, pasien, insomnia, guna, lorazepam]</td>\n",
              "      <td>[ya, pasien, insomnia, lorazepam]</td>\n",
              "    </tr>\n",
              "  </tbody>\n",
              "</table>\n",
              "</div>\n",
              "    <div class=\"colab-df-buttons\">\n",
              "\n",
              "  <div class=\"colab-df-container\">\n",
              "    <button class=\"colab-df-convert\" onclick=\"convertToInteractive('df-9049f6f1-afe8-4595-9bf3-21b78ccd91d5')\"\n",
              "            title=\"Convert this dataframe to an interactive table.\"\n",
              "            style=\"display:none;\">\n",
              "\n",
              "  <svg xmlns=\"http://www.w3.org/2000/svg\" height=\"24px\" viewBox=\"0 -960 960 960\">\n",
              "    <path d=\"M120-120v-720h720v720H120Zm60-500h600v-160H180v160Zm220 220h160v-160H400v160Zm0 220h160v-160H400v160ZM180-400h160v-160H180v160Zm440 0h160v-160H620v160ZM180-180h160v-160H180v160Zm440 0h160v-160H620v160Z\"/>\n",
              "  </svg>\n",
              "    </button>\n",
              "\n",
              "  <style>\n",
              "    .colab-df-container {\n",
              "      display:flex;\n",
              "      gap: 12px;\n",
              "    }\n",
              "\n",
              "    .colab-df-convert {\n",
              "      background-color: #E8F0FE;\n",
              "      border: none;\n",
              "      border-radius: 50%;\n",
              "      cursor: pointer;\n",
              "      display: none;\n",
              "      fill: #1967D2;\n",
              "      height: 32px;\n",
              "      padding: 0 0 0 0;\n",
              "      width: 32px;\n",
              "    }\n",
              "\n",
              "    .colab-df-convert:hover {\n",
              "      background-color: #E2EBFA;\n",
              "      box-shadow: 0px 1px 2px rgba(60, 64, 67, 0.3), 0px 1px 3px 1px rgba(60, 64, 67, 0.15);\n",
              "      fill: #174EA6;\n",
              "    }\n",
              "\n",
              "    .colab-df-buttons div {\n",
              "      margin-bottom: 4px;\n",
              "    }\n",
              "\n",
              "    [theme=dark] .colab-df-convert {\n",
              "      background-color: #3B4455;\n",
              "      fill: #D2E3FC;\n",
              "    }\n",
              "\n",
              "    [theme=dark] .colab-df-convert:hover {\n",
              "      background-color: #434B5C;\n",
              "      box-shadow: 0px 1px 3px 1px rgba(0, 0, 0, 0.15);\n",
              "      filter: drop-shadow(0px 1px 2px rgba(0, 0, 0, 0.3));\n",
              "      fill: #FFFFFF;\n",
              "    }\n",
              "  </style>\n",
              "\n",
              "    <script>\n",
              "      const buttonEl =\n",
              "        document.querySelector('#df-9049f6f1-afe8-4595-9bf3-21b78ccd91d5 button.colab-df-convert');\n",
              "      buttonEl.style.display =\n",
              "        google.colab.kernel.accessAllowed ? 'block' : 'none';\n",
              "\n",
              "      async function convertToInteractive(key) {\n",
              "        const element = document.querySelector('#df-9049f6f1-afe8-4595-9bf3-21b78ccd91d5');\n",
              "        const dataTable =\n",
              "          await google.colab.kernel.invokeFunction('convertToInteractive',\n",
              "                                                    [key], {});\n",
              "        if (!dataTable) return;\n",
              "\n",
              "        const docLinkHtml = 'Like what you see? Visit the ' +\n",
              "          '<a target=\"_blank\" href=https://colab.research.google.com/notebooks/data_table.ipynb>data table notebook</a>'\n",
              "          + ' to learn more about interactive tables.';\n",
              "        element.innerHTML = '';\n",
              "        dataTable['output_type'] = 'display_data';\n",
              "        await google.colab.output.renderOutput(dataTable, element);\n",
              "        const docLink = document.createElement('div');\n",
              "        docLink.innerHTML = docLinkHtml;\n",
              "        element.appendChild(docLink);\n",
              "      }\n",
              "    </script>\n",
              "  </div>\n",
              "\n",
              "\n",
              "    <div id=\"df-8e0053f1-917c-4795-8188-beeac96f22c6\">\n",
              "      <button class=\"colab-df-quickchart\" onclick=\"quickchart('df-8e0053f1-917c-4795-8188-beeac96f22c6')\"\n",
              "                title=\"Suggest charts\"\n",
              "                style=\"display:none;\">\n",
              "\n",
              "<svg xmlns=\"http://www.w3.org/2000/svg\" height=\"24px\"viewBox=\"0 0 24 24\"\n",
              "     width=\"24px\">\n",
              "    <g>\n",
              "        <path d=\"M19 3H5c-1.1 0-2 .9-2 2v14c0 1.1.9 2 2 2h14c1.1 0 2-.9 2-2V5c0-1.1-.9-2-2-2zM9 17H7v-7h2v7zm4 0h-2V7h2v10zm4 0h-2v-4h2v4z\"/>\n",
              "    </g>\n",
              "</svg>\n",
              "      </button>\n",
              "\n",
              "<style>\n",
              "  .colab-df-quickchart {\n",
              "      --bg-color: #E8F0FE;\n",
              "      --fill-color: #1967D2;\n",
              "      --hover-bg-color: #E2EBFA;\n",
              "      --hover-fill-color: #174EA6;\n",
              "      --disabled-fill-color: #AAA;\n",
              "      --disabled-bg-color: #DDD;\n",
              "  }\n",
              "\n",
              "  [theme=dark] .colab-df-quickchart {\n",
              "      --bg-color: #3B4455;\n",
              "      --fill-color: #D2E3FC;\n",
              "      --hover-bg-color: #434B5C;\n",
              "      --hover-fill-color: #FFFFFF;\n",
              "      --disabled-bg-color: #3B4455;\n",
              "      --disabled-fill-color: #666;\n",
              "  }\n",
              "\n",
              "  .colab-df-quickchart {\n",
              "    background-color: var(--bg-color);\n",
              "    border: none;\n",
              "    border-radius: 50%;\n",
              "    cursor: pointer;\n",
              "    display: none;\n",
              "    fill: var(--fill-color);\n",
              "    height: 32px;\n",
              "    padding: 0;\n",
              "    width: 32px;\n",
              "  }\n",
              "\n",
              "  .colab-df-quickchart:hover {\n",
              "    background-color: var(--hover-bg-color);\n",
              "    box-shadow: 0 1px 2px rgba(60, 64, 67, 0.3), 0 1px 3px 1px rgba(60, 64, 67, 0.15);\n",
              "    fill: var(--button-hover-fill-color);\n",
              "  }\n",
              "\n",
              "  .colab-df-quickchart-complete:disabled,\n",
              "  .colab-df-quickchart-complete:disabled:hover {\n",
              "    background-color: var(--disabled-bg-color);\n",
              "    fill: var(--disabled-fill-color);\n",
              "    box-shadow: none;\n",
              "  }\n",
              "\n",
              "  .colab-df-spinner {\n",
              "    border: 2px solid var(--fill-color);\n",
              "    border-color: transparent;\n",
              "    border-bottom-color: var(--fill-color);\n",
              "    animation:\n",
              "      spin 1s steps(1) infinite;\n",
              "  }\n",
              "\n",
              "  @keyframes spin {\n",
              "    0% {\n",
              "      border-color: transparent;\n",
              "      border-bottom-color: var(--fill-color);\n",
              "      border-left-color: var(--fill-color);\n",
              "    }\n",
              "    20% {\n",
              "      border-color: transparent;\n",
              "      border-left-color: var(--fill-color);\n",
              "      border-top-color: var(--fill-color);\n",
              "    }\n",
              "    30% {\n",
              "      border-color: transparent;\n",
              "      border-left-color: var(--fill-color);\n",
              "      border-top-color: var(--fill-color);\n",
              "      border-right-color: var(--fill-color);\n",
              "    }\n",
              "    40% {\n",
              "      border-color: transparent;\n",
              "      border-right-color: var(--fill-color);\n",
              "      border-top-color: var(--fill-color);\n",
              "    }\n",
              "    60% {\n",
              "      border-color: transparent;\n",
              "      border-right-color: var(--fill-color);\n",
              "    }\n",
              "    80% {\n",
              "      border-color: transparent;\n",
              "      border-right-color: var(--fill-color);\n",
              "      border-bottom-color: var(--fill-color);\n",
              "    }\n",
              "    90% {\n",
              "      border-color: transparent;\n",
              "      border-bottom-color: var(--fill-color);\n",
              "    }\n",
              "  }\n",
              "</style>\n",
              "\n",
              "      <script>\n",
              "        async function quickchart(key) {\n",
              "          const quickchartButtonEl =\n",
              "            document.querySelector('#' + key + ' button');\n",
              "          quickchartButtonEl.disabled = true;  // To prevent multiple clicks.\n",
              "          quickchartButtonEl.classList.add('colab-df-spinner');\n",
              "          try {\n",
              "            const charts = await google.colab.kernel.invokeFunction(\n",
              "                'suggestCharts', [key], {});\n",
              "          } catch (error) {\n",
              "            console.error('Error during call to suggestCharts:', error);\n",
              "          }\n",
              "          quickchartButtonEl.classList.remove('colab-df-spinner');\n",
              "          quickchartButtonEl.classList.add('colab-df-quickchart-complete');\n",
              "        }\n",
              "        (() => {\n",
              "          let quickchartButtonEl =\n",
              "            document.querySelector('#df-8e0053f1-917c-4795-8188-beeac96f22c6 button');\n",
              "          quickchartButtonEl.style.display =\n",
              "            google.colab.kernel.accessAllowed ? 'block' : 'none';\n",
              "        })();\n",
              "      </script>\n",
              "    </div>\n",
              "\n",
              "    </div>\n",
              "  </div>\n"
            ],
            "application/vnd.google.colaboratory.intrinsic+json": {
              "type": "dataframe",
              "summary": "{\n  \"name\": \"display(processed_df\",\n  \"rows\": 5,\n  \"fields\": [\n    {\n      \"column\": \"full_text\",\n      \"properties\": {\n        \"dtype\": \"string\",\n        \"num_unique_values\": 5,\n        \"samples\": [\n          \"@Ex_insomnia kesayangan ponakan ia\",\n          \"@xendless_s @carlaaura ya soalnya pasien insomnia pengguna lorazepam\",\n          \"@Ex_insomnia wkwkwk kepleset\"\n        ],\n        \"semantic_type\": \"\",\n        \"description\": \"\"\n      }\n    },\n    {\n      \"column\": \"Filtering\",\n      \"properties\": {\n        \"dtype\": \"string\",\n        \"num_unique_values\": 5,\n        \"samples\": [\n          \" kesayangan ponakan ia\",\n          \"  ya soalnya pasien insomnia pengguna lorazepam\",\n          \" wkwkwk kepleset\"\n        ],\n        \"semantic_type\": \"\",\n        \"description\": \"\"\n      }\n    },\n    {\n      \"column\": \"Case_Folding\",\n      \"properties\": {\n        \"dtype\": \"string\",\n        \"num_unique_values\": 5,\n        \"samples\": [\n          \" kesayangan ponakan ia\",\n          \"  ya soalnya pasien insomnia pengguna lorazepam\",\n          \" wkwkwk kepleset\"\n        ],\n        \"semantic_type\": \"\",\n        \"description\": \"\"\n      }\n    },\n    {\n      \"column\": \"Tokenizing\",\n      \"properties\": {\n        \"dtype\": \"object\",\n        \"semantic_type\": \"\",\n        \"description\": \"\"\n      }\n    },\n    {\n      \"column\": \"Stemming\",\n      \"properties\": {\n        \"dtype\": \"object\",\n        \"semantic_type\": \"\",\n        \"description\": \"\"\n      }\n    },\n    {\n      \"column\": \"Stopwords_Removal\",\n      \"properties\": {\n        \"dtype\": \"object\",\n        \"semantic_type\": \"\",\n        \"description\": \"\"\n      }\n    }\n  ]\n}"
            }
          },
          "metadata": {}
        }
      ]
    },
    {
      "cell_type": "markdown",
      "source": [
        "**Menyimpan file terproses**"
      ],
      "metadata": {
        "id": "G_NSzvcjTR_q"
      }
    },
    {
      "cell_type": "code",
      "source": [
        "# Menentukan nama file dan path g drive untuk hasil preprocessing\n",
        "processed_file_name = f'{ygdicari}_processed_{data_amt}_data.csv'\n",
        "processed_path = os.path.join(dir_path, processed_file_name)\n",
        "\n",
        "# Simpan dataframe dalam bentuk CSV\n",
        "processed_df.to_csv(processed_path, index=False)\n",
        "print(f\"Hasil preprocessing telah disimpan ke dalam file: \\n{processed_path}\")"
      ],
      "metadata": {
        "colab": {
          "base_uri": "https://localhost:8080/"
        },
        "id": "tJ1adD-H7Iqq",
        "outputId": "ae4db6b8-4c22-45e0-c7bc-1e9f6c02f100"
      },
      "execution_count": 44,
      "outputs": [
        {
          "output_type": "stream",
          "name": "stdout",
          "text": [
            "Hasil preprocessing telah disimpan ke dalam file: \n",
            "/content/drive/MyDrive/Pemrosesan Teks Teori/twitter_crawling_files/insomnia_processed_259_data.csv\n"
          ]
        }
      ]
    }
  ]
}